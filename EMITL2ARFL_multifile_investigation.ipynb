{
 "cells": [
  {
   "cell_type": "markdown",
   "id": "a80c6af2-0205-4afa-a75d-55321d0dcd4a",
   "metadata": {},
   "source": [
    "## Examination of EMIT Multi-file Granules"
   ]
  },
  {
   "cell_type": "code",
   "execution_count": 1,
   "id": "2d2c7f12-955b-46d1-9754-a71ce9d00f94",
   "metadata": {
    "tags": []
   },
   "outputs": [],
   "source": [
    "# python imports including earthaccess \n",
    "import earthaccess\n",
    "import requests\n",
    "import xarray as xr\n",
    "from pprint import pprint\n",
    "import pandas as pd\n",
    "import geopandas as gpd\n",
    "import matplotlib.pyplot as plt\n",
    "import geopandas as gpd"
   ]
  },
  {
   "cell_type": "code",
   "execution_count": 2,
   "id": "763cf7a5-9b47-483a-8d38-15b34a2f1c8d",
   "metadata": {
    "tags": []
   },
   "outputs": [
    {
     "name": "stdin",
     "output_type": "stream",
     "text": [
      "Enter your Earthdata Login username:  mthornton\n",
      "Enter your Earthdata password:  ········\n"
     ]
    },
    {
     "name": "stdout",
     "output_type": "stream",
     "text": [
      "You're now authenticated with NASA Earthdata Login\n",
      "Using token with expiration date: 01/12/2024\n",
      "Using user provided credentials for EDL\n",
      "Persisting credentials to .netrc\n"
     ]
    }
   ],
   "source": [
    "## Earthaccess Information \n",
    "# https://nsidc.github.io/earthaccess/\n",
    "# https://nasa-openscapes.github.io/earthdata-cloud-cookbook/tutorials/earthaccess-demo.html\n",
    "auth = earthaccess.login(strategy=\"interactive\", persist=True) "
   ]
  },
  {
   "cell_type": "markdown",
   "id": "3e8724f4-951c-4622-95f3-e28009298f07",
   "metadata": {},
   "source": [
    "![title](EMIT_mfg.PNG)"
   ]
  },
  {
   "cell_type": "code",
   "execution_count": 10,
   "id": "2a3ce578-52ea-45b8-a020-57f2c14560f7",
   "metadata": {
    "tags": []
   },
   "outputs": [
    {
     "name": "stdout",
     "output_type": "stream",
     "text": [
      "CMR URL: https://cmr.earthdata.nasa.gov/search/collections.json?doi=10.5067/EMIT/EMITL2ARFL.001\n"
     ]
    }
   ],
   "source": [
    "# EMIT L2A Estimated Surface Reflectance and Uncertainty and Masks 60 m V001\n",
    "# https://search.earthdata.nasa.gov/search/granules?p=C2408750690-LPCLOUD&pg[0][v]=f&pg[0][gsk]=-start_date&g=G2813300101-LPCLOUD&fpj=EMIT&tl=1701980645.155!3!!&lat=0.0703125&long=0.0703125\n",
    "cmrurl='https://cmr.earthdata.nasa.gov/search/' # CMR API base url - define the base url of NASA's CMR API as the variable `cmrurl`\n",
    "doi = '10.5067/EMIT/EMITL2ARFL.001'                   # ORNL DAAC - define the DOI as the variable `doi`\n",
    "doisearch = cmrurl + 'collections.json?doi=' + doi\n",
    "print('CMR URL: ' + doisearch)"
   ]
  },
  {
   "cell_type": "code",
   "execution_count": 4,
   "id": "9df75692-4f1f-400c-b8c9-e1e619fd5542",
   "metadata": {
    "tags": []
   },
   "outputs": [
    {
     "name": "stdout",
     "output_type": "stream",
     "text": [
      "C2408750690-LPCLOUD\n",
      "EMITL2ARFL\n"
     ]
    }
   ],
   "source": [
    "concept_id = requests.get(doisearch).json()['feed']['entry'][0]['id']\n",
    "short_name = requests.get(doisearch).json()['feed']['entry'][0]['short_name']\n",
    "print(concept_id)\n",
    "print(short_name)"
   ]
  },
  {
   "cell_type": "code",
   "execution_count": null,
   "id": "1d6288dc-0527-439e-b303-b3c21c656800",
   "metadata": {
    "tags": []
   },
   "outputs": [],
   "source": [
    "# search using earthaccess wih Concept_ID\n",
    "\n",
    "granules = earthaccess.search_data(\n",
    "    concept_id='C2408750690-LPCLOUD',\n",
    "    cloud_hosted=True) #,\n",
    "    #temporal=(\"2023-12-06\",\"2023-12-06\"))"
   ]
  },
  {
   "cell_type": "code",
   "execution_count": 8,
   "id": "9b193c4e-72d9-4eed-bcee-c3b1a7c35a1c",
   "metadata": {
    "tags": []
   },
   "outputs": [
    {
     "name": "stdout",
     "output_type": "stream",
     "text": [
      "Granules found: 2\n"
     ]
    }
   ],
   "source": [
    "# search using earthaccess wih Concept_ID\n",
    "\n",
    "granules = earthaccess.search_data(\n",
    "    concept_id='C2408750690-LPCLOUD',\n",
    "    cloud_hosted=True,\n",
    "    temporal=(\"2023-12-06 16:009:39\",\"2023-12-06 23:34:11\"))"
   ]
  },
  {
   "cell_type": "code",
   "execution_count": 11,
   "id": "5fe1236f-b7de-42dc-990f-d58254aa6693",
   "metadata": {},
   "outputs": [
    {
     "name": "stdout",
     "output_type": "stream",
     "text": [
      "['s3://lp-prod-protected/EMITL2ARFL.001/EMIT_L2A_RFL_001_20231206T160927_2334011_005/EMIT_L2A_RFL_001_20231206T160927_2334011_005.nc',\n",
      " 's3://lp-prod-protected/EMITL2ARFL.001/EMIT_L2A_RFL_001_20231206T160927_2334011_005/EMIT_L2A_RFLUNCERT_001_20231206T160927_2334011_005.nc',\n",
      " 's3://lp-prod-protected/EMITL2ARFL.001/EMIT_L2A_RFL_001_20231206T160927_2334011_005/EMIT_L2A_MASK_001_20231206T160927_2334011_005.nc']\n",
      "['s3://lp-prod-protected/EMITL2ARFL.001/EMIT_L2A_RFL_001_20231206T160939_2334011_006/EMIT_L2A_RFL_001_20231206T160939_2334011_006.nc',\n",
      " 's3://lp-prod-protected/EMITL2ARFL.001/EMIT_L2A_RFL_001_20231206T160939_2334011_006/EMIT_L2A_RFLUNCERT_001_20231206T160939_2334011_006.nc',\n",
      " 's3://lp-prod-protected/EMITL2ARFL.001/EMIT_L2A_RFL_001_20231206T160939_2334011_006/EMIT_L2A_MASK_001_20231206T160939_2334011_006.nc']\n"
     ]
    }
   ],
   "source": [
    "# List the s3 links \n",
    "for g in granules:\n",
    "    pprint(g.data_links(access=\"direct\"))  "
   ]
  },
  {
   "cell_type": "code",
   "execution_count": null,
   "id": "4854c0dd-2473-4fcf-8e5e-3c3a1aacd99c",
   "metadata": {},
   "outputs": [],
   "source": []
  }
 ],
 "metadata": {
  "kernelspec": {
   "display_name": "Python 3 (ipykernel)",
   "language": "python",
   "name": "python3"
  },
  "language_info": {
   "codemirror_mode": {
    "name": "ipython",
    "version": 3
   },
   "file_extension": ".py",
   "mimetype": "text/x-python",
   "name": "python",
   "nbconvert_exporter": "python",
   "pygments_lexer": "ipython3",
   "version": "3.10.12"
  }
 },
 "nbformat": 4,
 "nbformat_minor": 5
}
